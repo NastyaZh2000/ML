{
 "cells": [
  {
   "cell_type": "code",
   "execution_count": 1,
   "metadata": {},
   "outputs": [],
   "source": [
    "import numpy as np\n",
    "import time"
   ]
  },
  {
   "cell_type": "code",
   "execution_count": 2,
   "metadata": {},
   "outputs": [],
   "source": [
    "np.random.seed(12)"
   ]
  },
  {
   "cell_type": "code",
   "execution_count": 3,
   "metadata": {},
   "outputs": [],
   "source": [
    "def take_time(func, left, right):\n",
    "    start = time.time()\n",
    "    result = func(left, right)\n",
    "    exec_time = time.time() - start\n",
    "    \n",
    "    print(\"Function: \", func.__name__)      \n",
    "    print(\"Execution time: \", exec_time , \" seconds\\n\")\n",
    "    return result, exec_time"
   ]
  },
  {
   "cell_type": "code",
   "execution_count": 4,
   "metadata": {},
   "outputs": [],
   "source": [
    "def create_matrix(m, n):\n",
    "    return np.round(np.random.rand(m, n)*10000).tolist()"
   ]
  },
  {
   "cell_type": "code",
   "execution_count": 5,
   "metadata": {},
   "outputs": [
    {
     "data": {
      "text/plain": [
       "[[1542.0, 7400.0, 2633.0, 5337.0, 146.0],\n",
       " [9187.0, 9007.0, 334.0, 9569.0, 1372.0]]"
      ]
     },
     "execution_count": 5,
     "metadata": {},
     "output_type": "execute_result"
    }
   ],
   "source": [
    "create_matrix(2, 5)"
   ]
  },
  {
   "cell_type": "code",
   "execution_count": 6,
   "metadata": {},
   "outputs": [],
   "source": [
    "def init(m,n):\n",
    "    return [[0 for _ in range(n)] for _ in range(m)]"
   ]
  },
  {
   "cell_type": "code",
   "execution_count": 7,
   "metadata": {},
   "outputs": [
    {
     "name": "stdout",
     "output_type": "stream",
     "text": [
      "Function:  init\n",
      "Execution time:  0.001980304718017578  seconds\n",
      "\n"
     ]
    }
   ],
   "source": [
    "_ = take_time(init, 100, 200)"
   ]
  },
  {
   "cell_type": "code",
   "execution_count": 8,
   "metadata": {},
   "outputs": [],
   "source": [
    "def for_mult(left, right):\n",
    "    assert(len(left[0]) == len(right))\n",
    "    \n",
    "    n = len(left)\n",
    "    m = len(left[0])\n",
    "    k = len(right[0])\n",
    "    \n",
    "    matrix = init(n,k)\n",
    "    \n",
    "    for i in range(n):\n",
    "        for j in range(k):\n",
    "            for p in range(m):\n",
    "                matrix[i][j] += left[i][p] * right[p][j]\n",
    "    \n",
    "    return matrix"
   ]
  },
  {
   "cell_type": "code",
   "execution_count": 9,
   "metadata": {},
   "outputs": [],
   "source": [
    "def vector_mult(a, b):\n",
    "    res = 0\n",
    "    for i in range(len(a)):\n",
    "        res += a[i] * b[i]\n",
    "    return res\n",
    "    \n",
    "def rotate(matrix):\n",
    "    n = len(matrix)\n",
    "    m = len(matrix[0])\n",
    "    \n",
    "    res = init(m, n)\n",
    "    \n",
    "    for i in range(m):\n",
    "        for j in range(n):\n",
    "            res[i][j] = matrix[j][i]\n",
    "    \n",
    "    return res\n",
    "    \n",
    "def part_mult(left, right):\n",
    "    assert(len(left[0]) == len(right))\n",
    "    \n",
    "    n = len(left)\n",
    "    m = len(left[0])\n",
    "    k = len(right[0])\n",
    "    \n",
    "    matrix = init(n,k)\n",
    "    rotated_right = rotate(right)\n",
    "    \n",
    "    for i in range(n):\n",
    "        for j in range(k):\n",
    "            matrix[i][j] = vector_mult(left[i], rotated_right[j])\n",
    "    \n",
    "    return matrix"
   ]
  },
  {
   "cell_type": "code",
   "execution_count": 10,
   "metadata": {},
   "outputs": [],
   "source": [
    "left = create_matrix(100, 200)\n",
    "right = create_matrix(200, 100)"
   ]
  },
  {
   "cell_type": "code",
   "execution_count": 11,
   "metadata": {},
   "outputs": [
    {
     "name": "stdout",
     "output_type": "stream",
     "text": [
      "Function:  dot\n",
      "Execution time:  0.009932756423950195  seconds\n",
      "\n",
      "Function:  part_mult\n",
      "Execution time:  0.5275182723999023  seconds\n",
      "\n",
      "Function:  for_mult\n",
      "Execution time:  0.9855284690856934  seconds\n",
      "\n"
     ]
    }
   ],
   "source": [
    "expected, e_time = take_time(np.dot, left, right)\n",
    "part_res, p_time = take_time(part_mult, left, right)\n",
    "for_res , f_time = take_time(for_mult, left, right)"
   ]
  },
  {
   "cell_type": "code",
   "execution_count": 12,
   "metadata": {},
   "outputs": [
    {
     "name": "stdout",
     "output_type": "stream",
     "text": [
      "Part mult is 53 times slover\n",
      "For mult is 99 times slover\n"
     ]
    }
   ],
   "source": [
    "expected = expected.tolist()\n",
    "assert(expected == part_res)\n",
    "assert(expected == for_res)\n",
    "\n",
    "print(\"Part mult is %d times slover\" % (p_time/e_time))\n",
    "print(\"For mult is %d times slover\" % (f_time/e_time))"
   ]
  },
  {
   "cell_type": "markdown",
   "metadata": {},
   "source": [
    "\\* The larger the size of the input matrices, the relatively slower the custom algorithms work"
   ]
  }
 ],
 "metadata": {
  "kernelspec": {
   "display_name": "Python 3",
   "language": "python",
   "name": "python3"
  },
  "language_info": {
   "codemirror_mode": {
    "name": "ipython",
    "version": 3
   },
   "file_extension": ".py",
   "mimetype": "text/x-python",
   "name": "python",
   "nbconvert_exporter": "python",
   "pygments_lexer": "ipython3",
   "version": "3.7.4"
  }
 },
 "nbformat": 4,
 "nbformat_minor": 2
}
